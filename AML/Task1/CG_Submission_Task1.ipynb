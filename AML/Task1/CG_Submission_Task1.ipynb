{
 "cells": [
  {
   "cell_type": "markdown",
   "metadata": {},
   "source": [
    "<h1><center>Task 1</center></h1>"
   ]
  },
  {
   "cell_type": "markdown",
   "metadata": {},
   "source": [
    "## Table of Contents\n",
    "\n",
    "* [Chapter 1](#chapter1): Data Cleaning\n",
    "* [Chapter 2](#chapter2): Data Exploration\n",
    "* [Chapter 3](#chapter3): Feature Engineering"
   ]
  },
  {
   "cell_type": "code",
   "execution_count": 1,
   "metadata": {},
   "outputs": [],
   "source": [
    "#Importing libraries\n",
    "\n",
    "#Data processing\n",
    "import pandas as pd\n",
    "import numpy as np\n",
    "from numpy.random import seed\n",
    "import re\n",
    "import datetime as datetime\n",
    "from datetime import date\n",
    "import numbers\n",
    "\n",
    "#Data visualization\n",
    "import matplotlib.pyplot as plt\n",
    "import matplotlib.ticker as mtick\n",
    "import matplotlib.patches as mpatches\n",
    "from matplotlib.patches import Rectangle\n",
    "import seaborn as sns\n",
    "import plotly.io as pio\n",
    "import plotly.graph_objects as go\n",
    "from mpl_toolkits.mplot3d import Axes3D\n",
    "\n",
    "#Data modeling\n",
    "import statsmodels.api as sm\n",
    "from statsmodels.stats.outliers_influence import variance_inflation_factor\n",
    "from sklearn.base import BaseEstimator, RegressorMixin\n",
    "from sklearn.metrics import mean_squared_error, classification_report, accuracy_score\n",
    "from sklearn import datasets, linear_model, metrics\n",
    "from sklearn.model_selection import train_test_split, GridSearchCV, cross_val_score\n",
    "from sklearn.ensemble import RandomForestRegressor, RandomForestClassifier, VotingRegressor, VotingClassifier\n",
    "from sklearn.decomposition import PCA\n",
    "from sklearn.preprocessing import StandardScaler, MinMaxScaler, MaxAbsScaler, Normalizer, RobustScaler\n",
    "from sklearn.linear_model import LinearRegression, LogisticRegression\n",
    "import xgboost as xgb\n",
    "from lightgbm import LGBMRegressor\n",
    "from sklearn.experimental import enable_iterative_imputer\n",
    "from sklearn.impute import IterativeImputer\n",
    "from sklearn.impute import KNNImputer\n",
    "from pyod.models.abod import ABOD\n",
    "from pyod.models.cblof import CBLOF\n",
    "from pyod.models.hbos import HBOS\n",
    "from pyod.models.iforest import IForest\n",
    "from pyod.models.knn import KNN\n",
    "from pyod.models.lof import LOF\n",
    "from pyod.models.mcd import MCD\n",
    "from pyod.models.ocsvm import OCSVM\n",
    "from pyod.models.xgbod import XGBOD\n",
    "from sklearn.preprocessing import PowerTransformer\n",
    "from sklearn.feature_selection import VarianceThreshold\n",
    "from skfeature.function.similarity_based import fisher_score\n",
    "from sklearn.metrics import r2_score\n",
    "from scipy.spatial.distance import mahalanobis\n",
    "from scipy.stats import chi2\n",
    "from sklearn.cluster import DBSCAN\n",
    "from sklearn.svm import OneClassSVM\n",
    "from sklearn.feature_selection import mutual_info_regression, mutual_info_classif\n",
    "from sklearn.preprocessing import LabelEncoder\n",
    "from sklearn.linear_model import Lasso\n",
    "from sklearn.feature_selection import RFE\n",
    "\n",
    "#Other\n",
    "import warnings\n",
    "pio.renderers.default = \"notebook\""
   ]
  },
  {
   "cell_type": "code",
   "execution_count": 2,
   "metadata": {},
   "outputs": [],
   "source": [
    "#Suppressing warnings\n",
    "warnings.simplefilter(action = \"ignore\")"
   ]
  },
  {
   "cell_type": "code",
   "execution_count": 3,
   "metadata": {},
   "outputs": [],
   "source": [
    "#Setting random seed\n",
    "seed(11)"
   ]
  },
  {
   "cell_type": "code",
   "execution_count": 4,
   "metadata": {},
   "outputs": [],
   "source": [
    "#Importing data\n",
    "xtrain_df = pd.read_csv(\"X_train.csv\", index_col = 0)\n",
    "ytrain_df = pd.read_csv(\"y_train.csv\", index_col = 0)\n",
    "xtest_df = pd.read_csv(\"X_test.csv\", index_col = 0)"
   ]
  },
  {
   "cell_type": "code",
   "execution_count": 5,
   "metadata": {},
   "outputs": [],
   "source": [
    "feature_columns = xtrain_df.columns.to_list()"
   ]
  },
  {
   "cell_type": "code",
   "execution_count": 6,
   "metadata": {},
   "outputs": [],
   "source": [
    "#Set params\n",
    "params = {\n",
    "    \"random_state\": 11,\n",
    "    # Missing values\n",
    "    \"missing_values_imputation_method\": \"mean\", #probably mean (0.59) or KNN (0.57)\n",
    "    # Outliers\n",
    "    \"outlier_removal_method\": \"svm\", #probably not iqr\n",
    "    # Feature selection\n",
    "    \"feature_selection_method\": \"lasso\", \n",
    "    # Scaling\n",
    "    \"scaling_method\": \"std\", \n",
    "}"
   ]
  },
  {
   "cell_type": "code",
   "execution_count": 7,
   "metadata": {},
   "outputs": [],
   "source": [
    "#To do: Add hyperparameters"
   ]
  },
  {
   "cell_type": "markdown",
   "metadata": {},
   "source": [
    "## Chapter 1: <a class=\"anchor\" id=\"chapter1\"></a> Data Cleaning"
   ]
  },
  {
   "cell_type": "markdown",
   "metadata": {},
   "source": [
    "### Columns"
   ]
  },
  {
   "cell_type": "code",
   "execution_count": 8,
   "metadata": {},
   "outputs": [
    {
     "name": "stdout",
     "output_type": "stream",
     "text": [
      "['x104', 'x129', 'x489', 'x530']\n"
     ]
    }
   ],
   "source": [
    "#Dropping columns with constants\n",
    "constant_column_mask = xtrain_df.nunique() == 1\n",
    "constants = constant_column_mask[constant_column_mask].index.to_list()\n",
    "print(constants)\n",
    "\n",
    "for constant in constants:\n",
    "    xtrain_df = xtrain_df.drop(constant, axis = 1)\n",
    "    xtest_df = xtest_df.drop(constant, axis = 1)\n",
    "    feature_columns.remove(constant)"
   ]
  },
  {
   "cell_type": "markdown",
   "metadata": {},
   "source": [
    "### Missing values"
   ]
  },
  {
   "cell_type": "code",
   "execution_count": 9,
   "metadata": {},
   "outputs": [
    {
     "name": "stdout",
     "output_type": "stream",
     "text": [
      "1212\n",
      "1212\n"
     ]
    }
   ],
   "source": [
    "#Removing rows with null y values\n",
    "print(len(ytrain_df))\n",
    "mask = ~ytrain_df[\"y\"].isna()\n",
    "ytrain_df = ytrain_df[mask]\n",
    "xtrain_df = xtrain_df[mask]\n",
    "xtest_df = xtest_df[mask]\n",
    "print(len(ytrain_df))"
   ]
  },
  {
   "cell_type": "code",
   "execution_count": 10,
   "metadata": {
    "scrolled": true
   },
   "outputs": [
    {
     "data": {
      "text/html": [
       "<div>\n",
       "<style scoped>\n",
       "    .dataframe tbody tr th:only-of-type {\n",
       "        vertical-align: middle;\n",
       "    }\n",
       "\n",
       "    .dataframe tbody tr th {\n",
       "        vertical-align: top;\n",
       "    }\n",
       "\n",
       "    .dataframe thead th {\n",
       "        text-align: right;\n",
       "    }\n",
       "</style>\n",
       "<table border=\"1\" class=\"dataframe\">\n",
       "  <thead>\n",
       "    <tr style=\"text-align: right;\">\n",
       "      <th></th>\n",
       "      <th>share_of_missing_values</th>\n",
       "    </tr>\n",
       "  </thead>\n",
       "  <tbody>\n",
       "    <tr>\n",
       "      <th>x79</th>\n",
       "      <td>0.099835</td>\n",
       "    </tr>\n",
       "    <tr>\n",
       "      <th>x381</th>\n",
       "      <td>0.098185</td>\n",
       "    </tr>\n",
       "    <tr>\n",
       "      <th>x734</th>\n",
       "      <td>0.097360</td>\n",
       "    </tr>\n",
       "    <tr>\n",
       "      <th>x313</th>\n",
       "      <td>0.097360</td>\n",
       "    </tr>\n",
       "    <tr>\n",
       "      <th>x463</th>\n",
       "      <td>0.096535</td>\n",
       "    </tr>\n",
       "    <tr>\n",
       "      <th>...</th>\n",
       "      <td>...</td>\n",
       "    </tr>\n",
       "    <tr>\n",
       "      <th>x84</th>\n",
       "      <td>0.056931</td>\n",
       "    </tr>\n",
       "    <tr>\n",
       "      <th>x728</th>\n",
       "      <td>0.056106</td>\n",
       "    </tr>\n",
       "    <tr>\n",
       "      <th>x425</th>\n",
       "      <td>0.056106</td>\n",
       "    </tr>\n",
       "    <tr>\n",
       "      <th>x151</th>\n",
       "      <td>0.054455</td>\n",
       "    </tr>\n",
       "    <tr>\n",
       "      <th>x703</th>\n",
       "      <td>0.053630</td>\n",
       "    </tr>\n",
       "  </tbody>\n",
       "</table>\n",
       "<p>828 rows × 1 columns</p>\n",
       "</div>"
      ],
      "text/plain": [
       "      share_of_missing_values\n",
       "x79                  0.099835\n",
       "x381                 0.098185\n",
       "x734                 0.097360\n",
       "x313                 0.097360\n",
       "x463                 0.096535\n",
       "...                       ...\n",
       "x84                  0.056931\n",
       "x728                 0.056106\n",
       "x425                 0.056106\n",
       "x151                 0.054455\n",
       "x703                 0.053630\n",
       "\n",
       "[828 rows x 1 columns]"
      ]
     },
     "execution_count": 10,
     "metadata": {},
     "output_type": "execute_result"
    }
   ],
   "source": [
    "#Checking share of missing values\n",
    "share_missing_vals_num = (xtrain_df.isnull().sum() / len(xtrain_df))\n",
    "share_missing_vals_df = pd.DataFrame({\"share_of_missing_values\": share_missing_vals_num})\n",
    "share_missing_vals_df = share_missing_vals_df.sort_values(by = \"share_of_missing_values\", ascending = False)\n",
    "share_missing_vals_df"
   ]
  },
  {
   "cell_type": "code",
   "execution_count": 11,
   "metadata": {},
   "outputs": [
    {
     "data": {
      "image/png": "[encoded data removed]",
      "text/plain": [
       "<Figure size 1200x600 with 2 Axes>"
      ]
     },
     "metadata": {},
     "output_type": "display_data"
    }
   ],
   "source": [
    "#Visualizing missing values\n",
    "#Values seem to be missing at random\n",
    "df_col_sample = xtrain_df.sample(axis=1,n=50)\n",
    "\n",
    "#Creating plot architecture\n",
    "fig, ax = plt.subplots(figsize = (12, 6))\n",
    "\n",
    "#Plotting\n",
    "colors = [\"lightgrey\", \"#7ec8d9\"]\n",
    "columns = [name for name in df_col_sample.columns]\n",
    "ax = sns.heatmap(df_col_sample.isnull(), \n",
    "                 cmap = sns.color_palette(colors), \n",
    "                 cbar_kws = dict(\n",
    "                     orientation = \"vertical\", \n",
    "                     shrink = 0.1,\n",
    "                     aspect = 2.0))\n",
    "\n",
    "#Setting parameters\n",
    "ax.set_yticks(range(0, len(df_col_sample), 1000))\n",
    "ax.set_yticklabels(range(0, len(df_col_sample), 1000))\n",
    "ax.set_ylabel(\"Number of observations\")\n",
    "ax.set_xticklabels(columns)\n",
    "ax.vlines(range(len(df_col_sample.columns) + 1), \n",
    "          ymin = 0, \n",
    "          ymax = len(df_col_sample) - 1, \n",
    "          color = \"white\", \n",
    "          linewidth = 2)\n",
    "ax.set_title(\"Missing values per column\",\n",
    "             color = \"#696969\",\n",
    "             weight = \"bold\",\n",
    "             size = 12, \n",
    "             pad = 10)\n",
    "colorbar = ax.collections[0].colorbar\n",
    "colorbar.set_ticks([0.25, 0.75])\n",
    "colorbar.set_ticklabels([\"Value available\", \"Value missing\"])"
   ]
  },
  {
   "cell_type": "code",
   "execution_count": 12,
   "metadata": {},
   "outputs": [],
   "source": [
    "#Filling missing values\n",
    "def missing_value_imputation(X_train, X_test, params):\n",
    "    if params['missing_values_imputation_method'] == 'median':\n",
    "        X_train_imp = np.where(np.isnan(np.array(X_train)), np.nanmedian(np.array(X_train), axis = 0), np.array(X_train))\n",
    "        X_test_imp = np.where(np.isnan(np.array(X_test)), np.nanmedian(np.array(X_test), axis = 0), np.array(X_test))\n",
    "    \n",
    "    elif params['missing_values_imputation_method'] == 'mean':\n",
    "        X_train_imp = np.where(np.isnan(np.array(X_train)), np.nanmean(np.array(X_train), axis = 0), np.array(X_train))\n",
    "        X_test_imp = np.where(np.isnan(np.array(X_test)), np.nanmean(np.array(X_test), axis = 0), np.array(X_test))\n",
    "    \n",
    "    elif params['missing_values_imputation_method'] == 'knn':\n",
    "        imputer = KNNImputer(n_neighbors=5, weights='distance')\n",
    "        imputed_values_train = imputer.fit_transform(X_train)\n",
    "        imputed_values_test = imputer.transform(X_test)\n",
    "        X_train_imp = np.where(np.isnan(X_train), imputed_values_train, X_train)\n",
    "        X_test_imp = np.where(np.isnan(X_test), imputed_values_test, X_test)\n",
    "    \n",
    "    elif params['missing_values_imputation_method'] == 'mice':\n",
    "        imputer = IterativeImputer(max_iter=2, initial_strategy='median',n_nearest_features=5)\n",
    "        imputed_values_train = imputer.fit_transform(X_train)\n",
    "        imputed_values_test = imputer.transform(X_test)\n",
    "        X_train_imp = np.where(np.isnan(X_train), imputed_values_train, X_train)\n",
    "        X_test_imp = np.where(np.isnan(X_test), imputed_values_test, X_test)\n",
    "    \n",
    "    X_train = pd.DataFrame(X_train_imp, index = X_train.index, columns = X_train.columns)\n",
    "    X_test = pd.DataFrame(X_test_imp, index = X_test.index, columns = X_test.columns)\n",
    "        \n",
    "    return X_train, X_test"
   ]
  },
  {
   "cell_type": "code",
   "execution_count": 13,
   "metadata": {},
   "outputs": [],
   "source": [
    "#Filling missing values\n",
    "xtrain_df, xtest_df = missing_value_imputation(xtrain_df, xtest_df, params)"
   ]
  },
  {
   "cell_type": "markdown",
   "metadata": {},
   "source": [
    "### Outliers"
   ]
  },
  {
   "cell_type": "code",
   "execution_count": 14,
   "metadata": {},
   "outputs": [
    {
     "data": {
      "text/html": [
       "<div>\n",
       "<style scoped>\n",
       "    .dataframe tbody tr th:only-of-type {\n",
       "        vertical-align: middle;\n",
       "    }\n",
       "\n",
       "    .dataframe tbody tr th {\n",
       "        vertical-align: top;\n",
       "    }\n",
       "\n",
       "    .dataframe thead th {\n",
       "        text-align: right;\n",
       "    }\n",
       "</style>\n",
       "<table border=\"1\" class=\"dataframe\">\n",
       "  <thead>\n",
       "    <tr style=\"text-align: right;\">\n",
       "      <th></th>\n",
       "      <th>share_of_outliers</th>\n",
       "    </tr>\n",
       "  </thead>\n",
       "  <tbody>\n",
       "    <tr>\n",
       "      <th>x115</th>\n",
       "      <td>0.134488</td>\n",
       "    </tr>\n",
       "    <tr>\n",
       "      <th>x143</th>\n",
       "      <td>0.121287</td>\n",
       "    </tr>\n",
       "    <tr>\n",
       "      <th>x742</th>\n",
       "      <td>0.115512</td>\n",
       "    </tr>\n",
       "    <tr>\n",
       "      <th>x641</th>\n",
       "      <td>0.099010</td>\n",
       "    </tr>\n",
       "    <tr>\n",
       "      <th>x415</th>\n",
       "      <td>0.090759</td>\n",
       "    </tr>\n",
       "    <tr>\n",
       "      <th>...</th>\n",
       "      <td>...</td>\n",
       "    </tr>\n",
       "    <tr>\n",
       "      <th>x371</th>\n",
       "      <td>0.006601</td>\n",
       "    </tr>\n",
       "    <tr>\n",
       "      <th>x488</th>\n",
       "      <td>0.006601</td>\n",
       "    </tr>\n",
       "    <tr>\n",
       "      <th>x145</th>\n",
       "      <td>0.005776</td>\n",
       "    </tr>\n",
       "    <tr>\n",
       "      <th>x393</th>\n",
       "      <td>0.004950</td>\n",
       "    </tr>\n",
       "    <tr>\n",
       "      <th>x48</th>\n",
       "      <td>0.004125</td>\n",
       "    </tr>\n",
       "  </tbody>\n",
       "</table>\n",
       "<p>503 rows × 1 columns</p>\n",
       "</div>"
      ],
      "text/plain": [
       "      share_of_outliers\n",
       "x115           0.134488\n",
       "x143           0.121287\n",
       "x742           0.115512\n",
       "x641           0.099010\n",
       "x415           0.090759\n",
       "...                 ...\n",
       "x371           0.006601\n",
       "x488           0.006601\n",
       "x145           0.005776\n",
       "x393           0.004950\n",
       "x48            0.004125\n",
       "\n",
       "[503 rows x 1 columns]"
      ]
     },
     "execution_count": 14,
     "metadata": {},
     "output_type": "execute_result"
    }
   ],
   "source": [
    "#Checking share of numeric outliers\n",
    "#No column with share of outliers > 12%\n",
    "q1 = xtrain_df.quantile(0.25)\n",
    "q3 = xtrain_df.quantile(0.75)\n",
    "iqr = q3 - q1\n",
    "share_outliers_num = (((xtrain_df < (q1 - 1.5 * iqr)) | (xtrain_df > (q3 + 1.5 * iqr))).sum() / len(xtrain_df))\n",
    "share_outliers_df = pd.DataFrame({\"share_of_outliers\": share_outliers_num})\n",
    "share_outliers_df = share_outliers_df.sort_values(by = \"share_of_outliers\", ascending = False)\n",
    "share_outliers_df = share_outliers_df[share_outliers_df[\"share_of_outliers\"]>0]\n",
    "share_outliers_df"
   ]
  },
  {
   "cell_type": "code",
   "execution_count": 15,
   "metadata": {},
   "outputs": [
    {
     "data": {
      "image/png": "[encoded data removed]",
      "text/plain": [
       "<Figure size 1200x800 with 10 Axes>"
      ]
     },
     "metadata": {},
     "output_type": "display_data"
    }
   ],
   "source": [
    "#Visualizing columns with most outliers\n",
    "#Creating list\n",
    "numeric_outlier_list = list(share_outliers_df[share_outliers_df[\"share_of_outliers\"] > 0.05].index)\n",
    "\n",
    "#Creating plot architecture\n",
    "fig, ax = plt.subplots(figsize = (12, 8), ncols = 2, nrows = 5)\n",
    "fig.subplots_adjust(hspace = 0.6, wspace = 0.4)\n",
    "sns.despine(left = True)\n",
    "fig.suptitle(\"Boxplots of numeric columns with outliers\",\n",
    "             color = \"#696969\",\n",
    "             weight = \"bold\",\n",
    "             size = 12)\n",
    "\n",
    "#Plotting\n",
    "for column, axis in zip(numeric_outlier_list, ax.flat):\n",
    "    sns.boxplot(x = column, \n",
    "                data = xtrain_df, \n",
    "                ax = axis, \n",
    "                linewidth = 0.75, \n",
    "                width = 0.75,\n",
    "                medianprops = {\"color\":\"#7ec8d9\", \n",
    "                               \"linewidth\":2},\n",
    "                flierprops = {\"marker\":\"o\", \n",
    "                              \"markerfacecolor\":\"#7ec8d9\", \n",
    "                              \"markersize\":3, \n",
    "                              \"markeredgecolor\":\"#7ec8d9\"},\n",
    "                boxprops = {\"linewidth\":0, \n",
    "                            \"facecolor\":\"lightgrey\"},\n",
    "                whiskerprops = {\"linewidth\":0.5, \n",
    "                                \"markerfacecolor\":\"#565656\"},\n",
    "                capprops = {\"linewidth\":0.5, \n",
    "                            \"markerfacecolor\":\"#565656\"})\n",
    "    axis.set_yticks([])\n",
    "    axis.set_xlabel(column)"
   ]
  },
  {
   "cell_type": "code",
   "execution_count": 16,
   "metadata": {},
   "outputs": [
    {
     "data": {
      "image/png": "[encoded data removed]",
      "text/plain": [
       "<Figure size 1200x800 with 10 Axes>"
      ]
     },
     "metadata": {},
     "output_type": "display_data"
    }
   ],
   "source": [
    "#Visualizing columns with least outliers\n",
    "#Creating list\n",
    "numeric_outlier_list = list(share_outliers_df[share_outliers_df[\"share_of_outliers\"] < 0.01].index)\n",
    "\n",
    "#Creating plot architecture\n",
    "fig, ax = plt.subplots(figsize = (12, 8), ncols = 2, nrows = 5)\n",
    "fig.subplots_adjust(hspace = 0.6, wspace = 0.4)\n",
    "sns.despine(left = True)\n",
    "fig.suptitle(\"Boxplots of numeric columns with outliers\",\n",
    "             color = \"#696969\",\n",
    "             weight = \"bold\",\n",
    "             size = 12)\n",
    "\n",
    "#Plotting\n",
    "for column, axis in zip(numeric_outlier_list, ax.flat):\n",
    "    sns.boxplot(x = column, \n",
    "                data = xtrain_df, \n",
    "                ax = axis, \n",
    "                linewidth = 0.75, \n",
    "                width = 0.75,\n",
    "                medianprops = {\"color\":\"#7ec8d9\", \n",
    "                               \"linewidth\":2},\n",
    "                flierprops = {\"marker\":\"o\", \n",
    "                              \"markerfacecolor\":\"#7ec8d9\", \n",
    "                              \"markersize\":3, \n",
    "                              \"markeredgecolor\":\"#7ec8d9\"},\n",
    "                boxprops = {\"linewidth\":0, \n",
    "                            \"facecolor\":\"lightgrey\"},\n",
    "                whiskerprops = {\"linewidth\":0.5, \n",
    "                                \"markerfacecolor\":\"#565656\"},\n",
    "                capprops = {\"linewidth\":0.5, \n",
    "                            \"markerfacecolor\":\"#565656\"})\n",
    "    axis.set_yticks([])\n",
    "    axis.set_xlabel(column)"
   ]
  },
  {
   "cell_type": "code",
   "execution_count": 17,
   "metadata": {},
   "outputs": [],
   "source": [
    "#Dropping outliers\n",
    "def outlier_removal(X_train, y_train, params):\n",
    "    if params['outlier_removal_method'] == 'iqr':\n",
    "        q1 = xtrain_df.quantile(0.25)\n",
    "        q3 = xtrain_df.quantile(0.75)\n",
    "        iqr = q3 - q1\n",
    "        mask = (xtrain_df < (q1 - 10 * iqr)) | (xtrain_df > (q3 + 10 * iqr))\n",
    "        outlier_mask = mask.max(axis=1)\n",
    "    \n",
    "    elif params['outlier_removal_method'] == 'if':\n",
    "        model = IForest(contamination=0.1, n_estimators=100, max_samples=0.9, max_features=0.9)\n",
    "        model.fit(xtrain_df)\n",
    "        outlier_mask = model.predict(xtrain_df)\n",
    "        outlier_mask = outlier_mask == 1\n",
    "        \n",
    "    elif params['outlier_removal_method'] == 'md':\n",
    "        X_train_a = np.array(xtrain_df)\n",
    "\n",
    "        mean_vec = np.mean(X_train_a, axis=0)\n",
    "        cov_matrix = np.cov(X_train_a, rowvar=False)\n",
    "        inv_cov_matrix = np.linalg.inv(cov_matrix)\n",
    "\n",
    "        def mahalanobis_distance(x, mean_vec, inv_cov_matrix):\n",
    "            diff = x - mean_vec\n",
    "            return np.sqrt(np.dot(np.dot(diff, inv_cov_matrix), diff.T))\n",
    "\n",
    "        m_distances = np.array([mahalanobis_distance(x, mean_vec, inv_cov_matrix) for x in X_train_a])\n",
    "        \n",
    "        threshold = np.sqrt(chi2.ppf(0.95, df=X_train.shape[1]))\n",
    "        outlier_mask = m_distances > threshold\n",
    "    \n",
    "    elif params['outlier_removal_method'] == 'svm':\n",
    "        X_train_a = np.array(xtrain_df)\n",
    "\n",
    "        ocsvm = OneClassSVM(kernel='rbf', nu=0.05, gamma='scale')\n",
    "        ocsvm.fit(X_train_a)\n",
    "        predictions = ocsvm.predict(X_train_a)\n",
    "\n",
    "        outlier_mask = predictions == -1\n",
    "    \n",
    "    elif params['outlier_removal_method'] == 'pca':\n",
    "        X_train_a = np.array(xtrain_df)\n",
    "\n",
    "        pca = PCA(n_components=2)\n",
    "        X_train_pca = pca.fit_transform(X_train_a)\n",
    "        X_train_reconstructed = pca.inverse_transform(X_train_pca)\n",
    "        reconstruction_error = np.mean((X_train - X_train_reconstructed) ** 2, axis=1)\n",
    "\n",
    "        threshold = np.percentile(reconstruction_error, 95)\n",
    "        outlier_mask = reconstruction_error > threshold\n",
    "\n",
    "    X_train_cleaned = pd.DataFrame(X_train[~outlier_mask],index=X_train[~outlier_mask].index,columns=X_train.columns)\n",
    "    y_train_cleaned = pd.DataFrame(y_train[~outlier_mask],index=y_train[~outlier_mask].index,columns=y_train.columns)\n",
    "\n",
    "    return X_train_cleaned,y_train_cleaned"
   ]
  },
  {
   "cell_type": "code",
   "execution_count": 18,
   "metadata": {},
   "outputs": [
    {
     "name": "stdout",
     "output_type": "stream",
     "text": [
      "1212\n",
      "1151\n"
     ]
    }
   ],
   "source": [
    "#Dropping outliers\n",
    "print(len(xtrain_df))\n",
    "xtrain_df, ytrain_df = outlier_removal(xtrain_df, ytrain_df, params)\n",
    "print(len(xtrain_df))"
   ]
  },
  {
   "cell_type": "markdown",
   "metadata": {},
   "source": [
    "## Chapter 2: <a class=\"anchor\" id=\"chapter2\"></a> Data Exploration"
   ]
  },
  {
   "cell_type": "code",
   "execution_count": 19,
   "metadata": {},
   "outputs": [
    {
     "data": {
      "text/html": [
       "<div>\n",
       "<style scoped>\n",
       "    .dataframe tbody tr th:only-of-type {\n",
       "        vertical-align: middle;\n",
       "    }\n",
       "\n",
       "    .dataframe tbody tr th {\n",
       "        vertical-align: top;\n",
       "    }\n",
       "\n",
       "    .dataframe thead th {\n",
       "        text-align: right;\n",
       "    }\n",
       "</style>\n",
       "<table border=\"1\" class=\"dataframe\">\n",
       "  <thead>\n",
       "    <tr style=\"text-align: right;\">\n",
       "      <th></th>\n",
       "      <th>mean</th>\n",
       "      <th>standard deviation</th>\n",
       "      <th>skew</th>\n",
       "      <th>kurtosis</th>\n",
       "    </tr>\n",
       "  </thead>\n",
       "  <tbody>\n",
       "    <tr>\n",
       "      <th>x0</th>\n",
       "      <td>15248.211743</td>\n",
       "      <td>1928.827029</td>\n",
       "      <td>0.365626</td>\n",
       "      <td>0.977744</td>\n",
       "    </tr>\n",
       "    <tr>\n",
       "      <th>x1</th>\n",
       "      <td>10948.226993</td>\n",
       "      <td>1424.822377</td>\n",
       "      <td>0.517385</td>\n",
       "      <td>0.927827</td>\n",
       "    </tr>\n",
       "    <tr>\n",
       "      <th>x2</th>\n",
       "      <td>3429.737140</td>\n",
       "      <td>390.362879</td>\n",
       "      <td>0.385873</td>\n",
       "      <td>0.778397</td>\n",
       "    </tr>\n",
       "    <tr>\n",
       "      <th>x3</th>\n",
       "      <td>100049.562413</td>\n",
       "      <td>9473.610539</td>\n",
       "      <td>-0.007038</td>\n",
       "      <td>0.456942</td>\n",
       "    </tr>\n",
       "    <tr>\n",
       "      <th>x4</th>\n",
       "      <td>105.055113</td>\n",
       "      <td>2.775351</td>\n",
       "      <td>0.002190</td>\n",
       "      <td>-1.056016</td>\n",
       "    </tr>\n",
       "  </tbody>\n",
       "</table>\n",
       "</div>"
      ],
      "text/plain": [
       "             mean  standard deviation      skew  kurtosis\n",
       "x0   15248.211743         1928.827029  0.365626  0.977744\n",
       "x1   10948.226993         1424.822377  0.517385  0.927827\n",
       "x2    3429.737140          390.362879  0.385873  0.778397\n",
       "x3  100049.562413         9473.610539 -0.007038  0.456942\n",
       "x4     105.055113            2.775351  0.002190 -1.056016"
      ]
     },
     "execution_count": 19,
     "metadata": {},
     "output_type": "execute_result"
    }
   ],
   "source": [
    "#Statistical summary table: Centrality, spread, and shape of numeric distributions\n",
    "dfstats = xtrain_df.describe()\n",
    "dfstats.loc[\"skew\",] = xtrain_df.skew(axis = 0, skipna = True)\n",
    "dfstats.loc[\"kurtosis\",] = xtrain_df.kurtosis(axis = 0, skipna = True)\n",
    "dfstats = dfstats.drop([\"count\", \"min\", \"25%\", \"50%\", \"75%\", \"max\"])\n",
    "dfstats.index = [\"mean\", \"standard deviation\", \"skew\", \"kurtosis\"]\n",
    "dfstats = dfstats.T\n",
    "dfstats.head()"
   ]
  },
  {
   "cell_type": "markdown",
   "metadata": {},
   "source": [
    "# Chapter 3: <a class=\"anchor\" id=\"chapter3\"></a> Feature Engineering"
   ]
  },
  {
   "cell_type": "markdown",
   "metadata": {},
   "source": [
    "### Deskewing"
   ]
  },
  {
   "cell_type": "code",
   "execution_count": 20,
   "metadata": {},
   "outputs": [],
   "source": [
    "#Deskewing data\n",
    "def deskew(X_train, X_test):\n",
    "    missed_cols = []\n",
    "    for col in X_train.columns:\n",
    "        try:\n",
    "            pt = PowerTransformer(method=\"yeo-johnson\")\n",
    "            deskewed_col_train = pt.fit_transform(np.array(X_train[col]).reshape(-1, 1))\n",
    "            deskewed_col_test = pt.transform(np.array(X_test[col]).reshape(-1, 1))\n",
    "            X_train[col] = deskewed_col_train\n",
    "            X_test[col] = deskewed_col_test\n",
    "        except: \n",
    "            X_train[col] = X_train[col]\n",
    "            X_test[col] = X_test[col]\n",
    "    return X_train,X_test,missed_cols"
   ]
  },
  {
   "cell_type": "code",
   "execution_count": 21,
   "metadata": {},
   "outputs": [],
   "source": [
    "#Deskewing data\n",
    "xtrain_df,xtest_df,missed_cols = deskew(xtrain_df, xtest_df)"
   ]
  },
  {
   "cell_type": "markdown",
   "metadata": {},
   "source": [
    "### Feature Selection"
   ]
  },
  {
   "cell_type": "code",
   "execution_count": 22,
   "metadata": {},
   "outputs": [],
   "source": [
    "#Selecting features\n",
    "def feature_selection(X_train, y_train, X_test, params):\n",
    "    scaler = StandardScaler()\n",
    "    X_train_scaled = scaler.fit_transform(X_train)\n",
    "    X_test_scaled = scaler.transform(X_test)\n",
    "        \n",
    "    if params['feature_selection_method'] == 'mi':\n",
    "        mi = mutual_info_regression(X_train, y_train)\n",
    "        mi_df = pd.DataFrame({'Feature': X_train.columns, 'Mutual Information': mi})\n",
    "        mi_df = mi_df.sort_values(by='Mutual Information', ascending=False)\n",
    "        selected_features = mi_df[mi_df['Mutual Information'] > 0.05]['Feature']\n",
    "    \n",
    "    elif params['feature_selection_method'] == 'variancethreshold':\n",
    "        selector = VarianceThreshold(threshold = 1)\n",
    "        X_train_selected = selector.fit_transform(X_train)\n",
    "        selected_features = X_train.columns[selector.get_support()]\n",
    "\n",
    "    elif params['feature_selection_method'] == 'lasso':\n",
    "        lasso = Lasso(alpha=0.1)\n",
    "        lasso.fit(X_train_scaled, y_train)\n",
    "        selected_features = X_train.columns[lasso.coef_ != 0]\n",
    "    \n",
    "    elif params['feature_selection_method'] == 'rf':\n",
    "        rf = RandomForestRegressor(n_estimators=100, random_state=42)\n",
    "        rf.fit(X_train, y_train)\n",
    "        importance = rf.feature_importances_\n",
    "        feature_importance_df = pd.DataFrame({'Feature': X_train.columns, 'Importance': importance})\n",
    "        feature_importance_df = feature_importance_df.sort_values(by='Importance', ascending=False)\n",
    "        threshold = 0.001\n",
    "        selected_features = feature_importance_df[feature_importance_df['Importance'] > threshold]['Feature']\n",
    "    \n",
    "    elif params['feature_selection_method'] == 'rfe':\n",
    "        model = LinearRegression()\n",
    "        rfe = RFE(estimator=model, n_features_to_select=20)\n",
    "        rfe.fit(X_train, y_train)\n",
    "        selected_features = X_train.columns[rfe.support_]\n",
    "    \n",
    "    elif params['feature_selection_method'] == 'pca':\n",
    "        pca = PCA(n_components=20)\n",
    "        X_train_pca = pca.fit_transform(X_train_scaled)\n",
    "        X_test_pca = pca.transform(X_test_scaled)\n",
    "        pca_components_train_df = pd.DataFrame(X_train_pca, columns=[f'PC{i+1}' for i in range(X_train_pca.shape[1])], index = X_train.index)\n",
    "        pca_components_test_df = pd.DataFrame(X_test_pca, columns=[f'PC{i+1}' for i in range(X_test_pca.shape[1])], index = X_test.index)\n",
    "        \n",
    "    if params['feature_selection_method'] == 'pca':\n",
    "        return pca_components_train_df, pca_components_test_df\n",
    "    else:\n",
    "        X_train = X_train[selected_features]\n",
    "        X_test = X_test[selected_features]\n",
    "        return X_train,X_test"
   ]
  },
  {
   "cell_type": "code",
   "execution_count": 23,
   "metadata": {},
   "outputs": [
    {
     "name": "stdout",
     "output_type": "stream",
     "text": [
      "828\n",
      "363\n"
     ]
    }
   ],
   "source": [
    "print(len(xtrain_df.columns))\n",
    "xtrain_df, xtest_df = feature_selection(xtrain_df, ytrain_df, xtest_df, params)\n",
    "print(len(xtrain_df.columns))"
   ]
  },
  {
   "cell_type": "markdown",
   "metadata": {},
   "source": [
    "### Scaling"
   ]
  },
  {
   "cell_type": "code",
   "execution_count": 24,
   "metadata": {},
   "outputs": [],
   "source": [
    "#Centering data\n",
    "def scaling(X_train, X_test, params):\n",
    "    if params['scaling_method'] == 'maxabs':\n",
    "        scaler = MaxAbsScaler()\n",
    "    \n",
    "    elif params['scaling_method'] == 'std':\n",
    "        scaler = StandardScaler()\n",
    "    \n",
    "    elif params['scaling_method'] == 'minmax':\n",
    "        scaler = MinMaxScaler()\n",
    "    \n",
    "    elif params['scaling_method'] == 'robust':\n",
    "        scaler = RobustScaler()\n",
    "    \n",
    "    X_train_scaled = scaler.fit_transform(X_train)\n",
    "    X_test_scaled = scaler.transform(X_test)\n",
    "    X_train_scaled =  pd.DataFrame(data = X_train_scaled, columns = X_train.columns, index = X_train.index)\n",
    "    X_test_scaled =  pd.DataFrame(data = X_test_scaled, columns = X_test.columns, index = X_test.index)\n",
    "    \n",
    "    return X_train_scaled, X_test_scaled"
   ]
  },
  {
   "cell_type": "code",
   "execution_count": 25,
   "metadata": {},
   "outputs": [],
   "source": [
    "#Centering data\n",
    "xtrain_df, xtest_df = scaling(xtrain_df, xtest_df, params)"
   ]
  },
  {
   "cell_type": "code",
   "execution_count": 26,
   "metadata": {},
   "outputs": [],
   "source": [
    "X_train, X_vali, y_train, y_vali = train_test_split(xtrain_df, ytrain_df, test_size = 0.2, random_state = params[\"random_state\"])"
   ]
  },
  {
   "cell_type": "markdown",
   "metadata": {},
   "source": [
    "### Regression models"
   ]
  },
  {
   "cell_type": "markdown",
   "metadata": {},
   "source": [
    "#### Linear regression"
   ]
  },
  {
   "cell_type": "code",
   "execution_count": 27,
   "metadata": {},
   "outputs": [],
   "source": [
    "#Fitting linear regression\n",
    "lr = sm.OLS(y_train, sm.add_constant(X_train))\n",
    "lr_model = lr.fit()"
   ]
  },
  {
   "cell_type": "code",
   "execution_count": 28,
   "metadata": {},
   "outputs": [
    {
     "data": {
      "text/plain": [
       "0.4667568748697224"
      ]
     },
     "execution_count": 28,
     "metadata": {},
     "output_type": "execute_result"
    }
   ],
   "source": [
    "#Evaluating performance on test data\n",
    "y_pred = lr_model.predict(sm.add_constant(X_vali.reset_index(drop=True)))\n",
    "r2 = r2_score(y_vali, y_pred)\n",
    "r2"
   ]
  },
  {
   "cell_type": "code",
   "execution_count": 29,
   "metadata": {},
   "outputs": [],
   "source": [
    "#Fitting LASSO regression\n",
    "lar = linear_model.Lasso(alpha=0.1)\n",
    "lar_model = lar.fit(X_train,y_train)"
   ]
  },
  {
   "cell_type": "code",
   "execution_count": 30,
   "metadata": {},
   "outputs": [
    {
     "data": {
      "text/plain": [
       "0.5060775225809685"
      ]
     },
     "execution_count": 30,
     "metadata": {},
     "output_type": "execute_result"
    }
   ],
   "source": [
    "#Evaluating performance on test data\n",
    "y_pred = lar_model.predict(X_vali)\n",
    "r2 = r2_score(y_vali, y_pred)\n",
    "r2"
   ]
  },
  {
   "cell_type": "markdown",
   "metadata": {},
   "source": [
    "#### XGBoost"
   ]
  },
  {
   "cell_type": "code",
   "execution_count": 31,
   "metadata": {},
   "outputs": [
    {
     "data": {
      "text/plain": [
       "{'booster': 'gbtree'}"
      ]
     },
     "execution_count": 31,
     "metadata": {},
     "output_type": "execute_result"
    }
   ],
   "source": [
    "#Deriving best parameters for XGBoost\n",
    "xgbr_params = [{\"booster\": [\"gbtree\", \"gblinear\", \"dart\"]}]\n",
    "gs = GridSearchCV(xgb.XGBRegressor(), \n",
    "                  param_grid = xgbr_params,\n",
    "                  cv = 2, \n",
    "                  scoring = \"neg_mean_squared_error\")\n",
    "gs.fit(xtrain_df, ytrain_df)\n",
    "best_params_booster = gs.best_params_\n",
    "best_params_booster"
   ]
  },
  {
   "cell_type": "code",
   "execution_count": 32,
   "metadata": {},
   "outputs": [
    {
     "data": {
      "text/plain": [
       "{'learning_rate': 0.05}"
      ]
     },
     "execution_count": 32,
     "metadata": {},
     "output_type": "execute_result"
    }
   ],
   "source": [
    "#Deriving best parameters for XGBoost\n",
    "min_linspace = 0.001\n",
    "max_linspace = 0.05\n",
    "linspace = np.linspace(min_linspace, max_linspace, num = 5)\n",
    "xgbr_params = [{\"learning_rate\": linspace}]\n",
    "gs = GridSearchCV(xgb.XGBRegressor(booster = best_params_booster[\"booster\"]), \n",
    "                  param_grid = xgbr_params,\n",
    "                  cv = 2, \n",
    "                  scoring = \"neg_mean_squared_error\")\n",
    "gs.fit(xtrain_df, ytrain_df)\n",
    "best_params_learning_rate = gs.best_params_\n",
    "best_params_learning_rate"
   ]
  },
  {
   "cell_type": "code",
   "execution_count": 33,
   "metadata": {},
   "outputs": [
    {
     "data": {
      "text/html": [
       "<style>#sk-container-id-1 {color: black;background-color: white;}#sk-container-id-1 pre{padding: 0;}#sk-container-id-1 div.sk-toggleable {background-color: white;}#sk-container-id-1 label.sk-toggleable__label {cursor: pointer;display: block;width: 100%;margin-bottom: 0;padding: 0.3em;box-sizing: border-box;text-align: center;}#sk-container-id-1 label.sk-toggleable__label-arrow:before {content: \"▸\";float: left;margin-right: 0.25em;color: #696969;}#sk-container-id-1 label.sk-toggleable__label-arrow:hover:before {color: black;}#sk-container-id-1 div.sk-estimator:hover label.sk-toggleable__label-arrow:before {color: black;}#sk-container-id-1 div.sk-toggleable__content {max-height: 0;max-width: 0;overflow: hidden;text-align: left;background-color: #f0f8ff;}#sk-container-id-1 div.sk-toggleable__content pre {margin: 0.2em;color: black;border-radius: 0.25em;background-color: #f0f8ff;}#sk-container-id-1 input.sk-toggleable__control:checked~div.sk-toggleable__content {max-height: 200px;max-width: 100%;overflow: auto;}#sk-container-id-1 input.sk-toggleable__control:checked~label.sk-toggleable__label-arrow:before {content: \"▾\";}#sk-container-id-1 div.sk-estimator input.sk-toggleable__control:checked~label.sk-toggleable__label {background-color: #d4ebff;}#sk-container-id-1 div.sk-label input.sk-toggleable__control:checked~label.sk-toggleable__label {background-color: #d4ebff;}#sk-container-id-1 input.sk-hidden--visually {border: 0;clip: rect(1px 1px 1px 1px);clip: rect(1px, 1px, 1px, 1px);height: 1px;margin: -1px;overflow: hidden;padding: 0;position: absolute;width: 1px;}#sk-container-id-1 div.sk-estimator {font-family: monospace;background-color: #f0f8ff;border: 1px dotted black;border-radius: 0.25em;box-sizing: border-box;margin-bottom: 0.5em;}#sk-container-id-1 div.sk-estimator:hover {background-color: #d4ebff;}#sk-container-id-1 div.sk-parallel-item::after {content: \"\";width: 100%;border-bottom: 1px solid gray;flex-grow: 1;}#sk-container-id-1 div.sk-label:hover label.sk-toggleable__label {background-color: #d4ebff;}#sk-container-id-1 div.sk-serial::before {content: \"\";position: absolute;border-left: 1px solid gray;box-sizing: border-box;top: 0;bottom: 0;left: 50%;z-index: 0;}#sk-container-id-1 div.sk-serial {display: flex;flex-direction: column;align-items: center;background-color: white;padding-right: 0.2em;padding-left: 0.2em;position: relative;}#sk-container-id-1 div.sk-item {position: relative;z-index: 1;}#sk-container-id-1 div.sk-parallel {display: flex;align-items: stretch;justify-content: center;background-color: white;position: relative;}#sk-container-id-1 div.sk-item::before, #sk-container-id-1 div.sk-parallel-item::before {content: \"\";position: absolute;border-left: 1px solid gray;box-sizing: border-box;top: 0;bottom: 0;left: 50%;z-index: -1;}#sk-container-id-1 div.sk-parallel-item {display: flex;flex-direction: column;z-index: 1;position: relative;background-color: white;}#sk-container-id-1 div.sk-parallel-item:first-child::after {align-self: flex-end;width: 50%;}#sk-container-id-1 div.sk-parallel-item:last-child::after {align-self: flex-start;width: 50%;}#sk-container-id-1 div.sk-parallel-item:only-child::after {width: 0;}#sk-container-id-1 div.sk-dashed-wrapped {border: 1px dashed gray;margin: 0 0.4em 0.5em 0.4em;box-sizing: border-box;padding-bottom: 0.4em;background-color: white;}#sk-container-id-1 div.sk-label label {font-family: monospace;font-weight: bold;display: inline-block;line-height: 1.2em;}#sk-container-id-1 div.sk-label-container {text-align: center;}#sk-container-id-1 div.sk-container {/* jupyter's `normalize.less` sets `[hidden] { display: none; }` but bootstrap.min.css set `[hidden] { display: none !important; }` so we also need the `!important` here to be able to override the default hidden behavior on the sphinx rendered scikit-learn.org. See: https://github.com/scikit-learn/scikit-learn/issues/21755 */display: inline-block !important;position: relative;}#sk-container-id-1 div.sk-text-repr-fallback {display: none;}</style><div id=\"sk-container-id-1\" class=\"sk-top-container\"><div class=\"sk-text-repr-fallback\"><pre>XGBRegressor(base_score=0.5, booster=&#x27;gbtree&#x27;, callbacks=None,\n",
       "             colsample_bylevel=1, colsample_bynode=1,\n",
       "             colsample_bytree=0.6805529037719623, early_stopping_rounds=None,\n",
       "             enable_categorical=False, eval_metric=None, feature_types=None,\n",
       "             gamma=0.013904824034426317, gpu_id=-1, grow_policy=&#x27;depthwise&#x27;,\n",
       "             importance_type=None, interaction_constraints=&#x27;&#x27;,\n",
       "             learning_rate=0.020190598458685406, max_bin=256,\n",
       "             max_cat_threshold=64, max_cat_to_onehot=4, max_delta_step=0,\n",
       "             max_depth=4, max_leaves=0, min_child_weight=1.9188153908213879,\n",
       "             missing=nan, monotone_constraints=&#x27;()&#x27;, n_estimators=2173,\n",
       "             n_jobs=-1, nthread=-1, num_parallel_tree=1, predictor=&#x27;auto&#x27;, ...)</pre><b>In a Jupyter environment, please rerun this cell to show the HTML representation or trust the notebook. <br />On GitHub, the HTML representation is unable to render, please try loading this page with nbviewer.org.</b></div><div class=\"sk-container\" hidden><div class=\"sk-item\"><div class=\"sk-estimator sk-toggleable\"><input class=\"sk-toggleable__control sk-hidden--visually\" id=\"sk-estimator-id-1\" type=\"checkbox\" checked><label for=\"sk-estimator-id-1\" class=\"sk-toggleable__label sk-toggleable__label-arrow\">XGBRegressor</label><div class=\"sk-toggleable__content\"><pre>XGBRegressor(base_score=0.5, booster=&#x27;gbtree&#x27;, callbacks=None,\n",
       "             colsample_bylevel=1, colsample_bynode=1,\n",
       "             colsample_bytree=0.6805529037719623, early_stopping_rounds=None,\n",
       "             enable_categorical=False, eval_metric=None, feature_types=None,\n",
       "             gamma=0.013904824034426317, gpu_id=-1, grow_policy=&#x27;depthwise&#x27;,\n",
       "             importance_type=None, interaction_constraints=&#x27;&#x27;,\n",
       "             learning_rate=0.020190598458685406, max_bin=256,\n",
       "             max_cat_threshold=64, max_cat_to_onehot=4, max_delta_step=0,\n",
       "             max_depth=4, max_leaves=0, min_child_weight=1.9188153908213879,\n",
       "             missing=nan, monotone_constraints=&#x27;()&#x27;, n_estimators=2173,\n",
       "             n_jobs=-1, nthread=-1, num_parallel_tree=1, predictor=&#x27;auto&#x27;, ...)</pre></div></div></div></div></div>"
      ],
      "text/plain": [
       "XGBRegressor(base_score=0.5, booster='gbtree', callbacks=None,\n",
       "             colsample_bylevel=1, colsample_bynode=1,\n",
       "             colsample_bytree=0.6805529037719623, early_stopping_rounds=None,\n",
       "             enable_categorical=False, eval_metric=None, feature_types=None,\n",
       "             gamma=0.013904824034426317, gpu_id=-1, grow_policy='depthwise',\n",
       "             importance_type=None, interaction_constraints='',\n",
       "             learning_rate=0.020190598458685406, max_bin=256,\n",
       "             max_cat_threshold=64, max_cat_to_onehot=4, max_delta_step=0,\n",
       "             max_depth=4, max_leaves=0, min_child_weight=1.9188153908213879,\n",
       "             missing=nan, monotone_constraints='()', n_estimators=2173,\n",
       "             n_jobs=-1, nthread=-1, num_parallel_tree=1, predictor='auto', ...)"
      ]
     },
     "execution_count": 33,
     "metadata": {},
     "output_type": "execute_result"
    }
   ],
   "source": [
    "#Fitting XGBoost\n",
    "xgbr = xgb.XGBRegressor(colsample_bytree=0.6805529037719623, gamma= 0.013904824034426317,\n",
    "                                learning_rate=0.020190598458685406, max_depth = 4,\n",
    "                                min_child_weight=1.9188153908213879, n_estimators = 2173,\n",
    "                                reg_alpha = 0.38611589610443453, reg_lambda=0.6425681648755882, subsample=0.3477148425968603,\n",
    "                                verbosity=0, random_state=7, nthread=-1)\n",
    "xgbr.fit(X_train, y_train)"
   ]
  },
  {
   "cell_type": "code",
   "execution_count": 34,
   "metadata": {
    "scrolled": true
   },
   "outputs": [
    {
     "data": {
      "text/plain": [
       "0.5526213125746248"
      ]
     },
     "execution_count": 34,
     "metadata": {},
     "output_type": "execute_result"
    }
   ],
   "source": [
    "#Evaluating performance on test data\n",
    "y_pred =  xgbr.predict(X_vali)\n",
    "r2 = r2_score(y_vali, y_pred)\n",
    "r2"
   ]
  },
  {
   "cell_type": "markdown",
   "metadata": {},
   "source": [
    "#### Random forest"
   ]
  },
  {
   "cell_type": "code",
   "execution_count": 35,
   "metadata": {},
   "outputs": [
    {
     "data": {
      "text/html": [
       "<style>#sk-container-id-2 {color: black;background-color: white;}#sk-container-id-2 pre{padding: 0;}#sk-container-id-2 div.sk-toggleable {background-color: white;}#sk-container-id-2 label.sk-toggleable__label {cursor: pointer;display: block;width: 100%;margin-bottom: 0;padding: 0.3em;box-sizing: border-box;text-align: center;}#sk-container-id-2 label.sk-toggleable__label-arrow:before {content: \"▸\";float: left;margin-right: 0.25em;color: #696969;}#sk-container-id-2 label.sk-toggleable__label-arrow:hover:before {color: black;}#sk-container-id-2 div.sk-estimator:hover label.sk-toggleable__label-arrow:before {color: black;}#sk-container-id-2 div.sk-toggleable__content {max-height: 0;max-width: 0;overflow: hidden;text-align: left;background-color: #f0f8ff;}#sk-container-id-2 div.sk-toggleable__content pre {margin: 0.2em;color: black;border-radius: 0.25em;background-color: #f0f8ff;}#sk-container-id-2 input.sk-toggleable__control:checked~div.sk-toggleable__content {max-height: 200px;max-width: 100%;overflow: auto;}#sk-container-id-2 input.sk-toggleable__control:checked~label.sk-toggleable__label-arrow:before {content: \"▾\";}#sk-container-id-2 div.sk-estimator input.sk-toggleable__control:checked~label.sk-toggleable__label {background-color: #d4ebff;}#sk-container-id-2 div.sk-label input.sk-toggleable__control:checked~label.sk-toggleable__label {background-color: #d4ebff;}#sk-container-id-2 input.sk-hidden--visually {border: 0;clip: rect(1px 1px 1px 1px);clip: rect(1px, 1px, 1px, 1px);height: 1px;margin: -1px;overflow: hidden;padding: 0;position: absolute;width: 1px;}#sk-container-id-2 div.sk-estimator {font-family: monospace;background-color: #f0f8ff;border: 1px dotted black;border-radius: 0.25em;box-sizing: border-box;margin-bottom: 0.5em;}#sk-container-id-2 div.sk-estimator:hover {background-color: #d4ebff;}#sk-container-id-2 div.sk-parallel-item::after {content: \"\";width: 100%;border-bottom: 1px solid gray;flex-grow: 1;}#sk-container-id-2 div.sk-label:hover label.sk-toggleable__label {background-color: #d4ebff;}#sk-container-id-2 div.sk-serial::before {content: \"\";position: absolute;border-left: 1px solid gray;box-sizing: border-box;top: 0;bottom: 0;left: 50%;z-index: 0;}#sk-container-id-2 div.sk-serial {display: flex;flex-direction: column;align-items: center;background-color: white;padding-right: 0.2em;padding-left: 0.2em;position: relative;}#sk-container-id-2 div.sk-item {position: relative;z-index: 1;}#sk-container-id-2 div.sk-parallel {display: flex;align-items: stretch;justify-content: center;background-color: white;position: relative;}#sk-container-id-2 div.sk-item::before, #sk-container-id-2 div.sk-parallel-item::before {content: \"\";position: absolute;border-left: 1px solid gray;box-sizing: border-box;top: 0;bottom: 0;left: 50%;z-index: -1;}#sk-container-id-2 div.sk-parallel-item {display: flex;flex-direction: column;z-index: 1;position: relative;background-color: white;}#sk-container-id-2 div.sk-parallel-item:first-child::after {align-self: flex-end;width: 50%;}#sk-container-id-2 div.sk-parallel-item:last-child::after {align-self: flex-start;width: 50%;}#sk-container-id-2 div.sk-parallel-item:only-child::after {width: 0;}#sk-container-id-2 div.sk-dashed-wrapped {border: 1px dashed gray;margin: 0 0.4em 0.5em 0.4em;box-sizing: border-box;padding-bottom: 0.4em;background-color: white;}#sk-container-id-2 div.sk-label label {font-family: monospace;font-weight: bold;display: inline-block;line-height: 1.2em;}#sk-container-id-2 div.sk-label-container {text-align: center;}#sk-container-id-2 div.sk-container {/* jupyter's `normalize.less` sets `[hidden] { display: none; }` but bootstrap.min.css set `[hidden] { display: none !important; }` so we also need the `!important` here to be able to override the default hidden behavior on the sphinx rendered scikit-learn.org. See: https://github.com/scikit-learn/scikit-learn/issues/21755 */display: inline-block !important;position: relative;}#sk-container-id-2 div.sk-text-repr-fallback {display: none;}</style><div id=\"sk-container-id-2\" class=\"sk-top-container\"><div class=\"sk-text-repr-fallback\"><pre>RandomForestRegressor()</pre><b>In a Jupyter environment, please rerun this cell to show the HTML representation or trust the notebook. <br />On GitHub, the HTML representation is unable to render, please try loading this page with nbviewer.org.</b></div><div class=\"sk-container\" hidden><div class=\"sk-item\"><div class=\"sk-estimator sk-toggleable\"><input class=\"sk-toggleable__control sk-hidden--visually\" id=\"sk-estimator-id-2\" type=\"checkbox\" checked><label for=\"sk-estimator-id-2\" class=\"sk-toggleable__label sk-toggleable__label-arrow\">RandomForestRegressor</label><div class=\"sk-toggleable__content\"><pre>RandomForestRegressor()</pre></div></div></div></div></div>"
      ],
      "text/plain": [
       "RandomForestRegressor()"
      ]
     },
     "execution_count": 35,
     "metadata": {},
     "output_type": "execute_result"
    }
   ],
   "source": [
    "#Fitting random forest\n",
    "rndf = RandomForestRegressor()\n",
    "rndf.fit(X_train, y_train)"
   ]
  },
  {
   "cell_type": "code",
   "execution_count": 36,
   "metadata": {},
   "outputs": [
    {
     "data": {
      "text/plain": [
       "0.4963680999930171"
      ]
     },
     "execution_count": 36,
     "metadata": {},
     "output_type": "execute_result"
    }
   ],
   "source": [
    "#Evaluating performance on test data\n",
    "y_pred = rndf.predict(X_vali)\n",
    "r2 = r2_score(y_vali, y_pred)\n",
    "r2"
   ]
  },
  {
   "cell_type": "markdown",
   "metadata": {},
   "source": [
    "#### LightGBM"
   ]
  },
  {
   "cell_type": "code",
   "execution_count": 37,
   "metadata": {},
   "outputs": [
    {
     "name": "stdout",
     "output_type": "stream",
     "text": [
      "[LightGBM] [Info] Auto-choosing col-wise multi-threading, the overhead of testing was 0.003054 seconds.\n",
      "You can set `force_col_wise=true` to remove the overhead.\n",
      "[LightGBM] [Info] Total Bins 91970\n",
      "[LightGBM] [Info] Number of data points in the train set: 920, number of used features: 363\n",
      "[LightGBM] [Info] Start training from score 69.982609\n"
     ]
    },
    {
     "data": {
      "text/html": [
       "<style>#sk-container-id-3 {color: black;background-color: white;}#sk-container-id-3 pre{padding: 0;}#sk-container-id-3 div.sk-toggleable {background-color: white;}#sk-container-id-3 label.sk-toggleable__label {cursor: pointer;display: block;width: 100%;margin-bottom: 0;padding: 0.3em;box-sizing: border-box;text-align: center;}#sk-container-id-3 label.sk-toggleable__label-arrow:before {content: \"▸\";float: left;margin-right: 0.25em;color: #696969;}#sk-container-id-3 label.sk-toggleable__label-arrow:hover:before {color: black;}#sk-container-id-3 div.sk-estimator:hover label.sk-toggleable__label-arrow:before {color: black;}#sk-container-id-3 div.sk-toggleable__content {max-height: 0;max-width: 0;overflow: hidden;text-align: left;background-color: #f0f8ff;}#sk-container-id-3 div.sk-toggleable__content pre {margin: 0.2em;color: black;border-radius: 0.25em;background-color: #f0f8ff;}#sk-container-id-3 input.sk-toggleable__control:checked~div.sk-toggleable__content {max-height: 200px;max-width: 100%;overflow: auto;}#sk-container-id-3 input.sk-toggleable__control:checked~label.sk-toggleable__label-arrow:before {content: \"▾\";}#sk-container-id-3 div.sk-estimator input.sk-toggleable__control:checked~label.sk-toggleable__label {background-color: #d4ebff;}#sk-container-id-3 div.sk-label input.sk-toggleable__control:checked~label.sk-toggleable__label {background-color: #d4ebff;}#sk-container-id-3 input.sk-hidden--visually {border: 0;clip: rect(1px 1px 1px 1px);clip: rect(1px, 1px, 1px, 1px);height: 1px;margin: -1px;overflow: hidden;padding: 0;position: absolute;width: 1px;}#sk-container-id-3 div.sk-estimator {font-family: monospace;background-color: #f0f8ff;border: 1px dotted black;border-radius: 0.25em;box-sizing: border-box;margin-bottom: 0.5em;}#sk-container-id-3 div.sk-estimator:hover {background-color: #d4ebff;}#sk-container-id-3 div.sk-parallel-item::after {content: \"\";width: 100%;border-bottom: 1px solid gray;flex-grow: 1;}#sk-container-id-3 div.sk-label:hover label.sk-toggleable__label {background-color: #d4ebff;}#sk-container-id-3 div.sk-serial::before {content: \"\";position: absolute;border-left: 1px solid gray;box-sizing: border-box;top: 0;bottom: 0;left: 50%;z-index: 0;}#sk-container-id-3 div.sk-serial {display: flex;flex-direction: column;align-items: center;background-color: white;padding-right: 0.2em;padding-left: 0.2em;position: relative;}#sk-container-id-3 div.sk-item {position: relative;z-index: 1;}#sk-container-id-3 div.sk-parallel {display: flex;align-items: stretch;justify-content: center;background-color: white;position: relative;}#sk-container-id-3 div.sk-item::before, #sk-container-id-3 div.sk-parallel-item::before {content: \"\";position: absolute;border-left: 1px solid gray;box-sizing: border-box;top: 0;bottom: 0;left: 50%;z-index: -1;}#sk-container-id-3 div.sk-parallel-item {display: flex;flex-direction: column;z-index: 1;position: relative;background-color: white;}#sk-container-id-3 div.sk-parallel-item:first-child::after {align-self: flex-end;width: 50%;}#sk-container-id-3 div.sk-parallel-item:last-child::after {align-self: flex-start;width: 50%;}#sk-container-id-3 div.sk-parallel-item:only-child::after {width: 0;}#sk-container-id-3 div.sk-dashed-wrapped {border: 1px dashed gray;margin: 0 0.4em 0.5em 0.4em;box-sizing: border-box;padding-bottom: 0.4em;background-color: white;}#sk-container-id-3 div.sk-label label {font-family: monospace;font-weight: bold;display: inline-block;line-height: 1.2em;}#sk-container-id-3 div.sk-label-container {text-align: center;}#sk-container-id-3 div.sk-container {/* jupyter's `normalize.less` sets `[hidden] { display: none; }` but bootstrap.min.css set `[hidden] { display: none !important; }` so we also need the `!important` here to be able to override the default hidden behavior on the sphinx rendered scikit-learn.org. See: https://github.com/scikit-learn/scikit-learn/issues/21755 */display: inline-block !important;position: relative;}#sk-container-id-3 div.sk-text-repr-fallback {display: none;}</style><div id=\"sk-container-id-3\" class=\"sk-top-container\"><div class=\"sk-text-repr-fallback\"><pre>LGBMRegressor()</pre><b>In a Jupyter environment, please rerun this cell to show the HTML representation or trust the notebook. <br />On GitHub, the HTML representation is unable to render, please try loading this page with nbviewer.org.</b></div><div class=\"sk-container\" hidden><div class=\"sk-item\"><div class=\"sk-estimator sk-toggleable\"><input class=\"sk-toggleable__control sk-hidden--visually\" id=\"sk-estimator-id-3\" type=\"checkbox\" checked><label for=\"sk-estimator-id-3\" class=\"sk-toggleable__label sk-toggleable__label-arrow\">LGBMRegressor</label><div class=\"sk-toggleable__content\"><pre>LGBMRegressor()</pre></div></div></div></div></div>"
      ],
      "text/plain": [
       "LGBMRegressor()"
      ]
     },
     "execution_count": 37,
     "metadata": {},
     "output_type": "execute_result"
    }
   ],
   "source": [
    "#Fitting random forest\n",
    "lgbm = LGBMRegressor()\n",
    "lgbm.fit(X_train, y_train)"
   ]
  },
  {
   "cell_type": "code",
   "execution_count": 38,
   "metadata": {},
   "outputs": [
    {
     "data": {
      "text/plain": [
       "0.5030046177162659"
      ]
     },
     "execution_count": 38,
     "metadata": {},
     "output_type": "execute_result"
    }
   ],
   "source": [
    "#Evaluating performance on test data\n",
    "y_pred = lgbm.predict(X_vali)\n",
    "r2 = r2_score(y_vali, y_pred)\n",
    "r2"
   ]
  },
  {
   "cell_type": "code",
   "execution_count": 39,
   "metadata": {},
   "outputs": [],
   "source": [
    "#To do: Add hyperparameters"
   ]
  },
  {
   "cell_type": "markdown",
   "metadata": {},
   "source": [
    "#### Voting ensemble"
   ]
  },
  {
   "cell_type": "code",
   "execution_count": 40,
   "metadata": {},
   "outputs": [
    {
     "name": "stdout",
     "output_type": "stream",
     "text": [
      "[LightGBM] [Info] Auto-choosing col-wise multi-threading, the overhead of testing was 0.002391 seconds.\n",
      "You can set `force_col_wise=true` to remove the overhead.\n",
      "[LightGBM] [Info] Total Bins 91970\n",
      "[LightGBM] [Info] Number of data points in the train set: 920, number of used features: 363\n",
      "[LightGBM] [Info] Start training from score 69.982609\n"
     ]
    },
    {
     "data": {
      "text/html": [
       "<style>#sk-container-id-4 {color: black;background-color: white;}#sk-container-id-4 pre{padding: 0;}#sk-container-id-4 div.sk-toggleable {background-color: white;}#sk-container-id-4 label.sk-toggleable__label {cursor: pointer;display: block;width: 100%;margin-bottom: 0;padding: 0.3em;box-sizing: border-box;text-align: center;}#sk-container-id-4 label.sk-toggleable__label-arrow:before {content: \"▸\";float: left;margin-right: 0.25em;color: #696969;}#sk-container-id-4 label.sk-toggleable__label-arrow:hover:before {color: black;}#sk-container-id-4 div.sk-estimator:hover label.sk-toggleable__label-arrow:before {color: black;}#sk-container-id-4 div.sk-toggleable__content {max-height: 0;max-width: 0;overflow: hidden;text-align: left;background-color: #f0f8ff;}#sk-container-id-4 div.sk-toggleable__content pre {margin: 0.2em;color: black;border-radius: 0.25em;background-color: #f0f8ff;}#sk-container-id-4 input.sk-toggleable__control:checked~div.sk-toggleable__content {max-height: 200px;max-width: 100%;overflow: auto;}#sk-container-id-4 input.sk-toggleable__control:checked~label.sk-toggleable__label-arrow:before {content: \"▾\";}#sk-container-id-4 div.sk-estimator input.sk-toggleable__control:checked~label.sk-toggleable__label {background-color: #d4ebff;}#sk-container-id-4 div.sk-label input.sk-toggleable__control:checked~label.sk-toggleable__label {background-color: #d4ebff;}#sk-container-id-4 input.sk-hidden--visually {border: 0;clip: rect(1px 1px 1px 1px);clip: rect(1px, 1px, 1px, 1px);height: 1px;margin: -1px;overflow: hidden;padding: 0;position: absolute;width: 1px;}#sk-container-id-4 div.sk-estimator {font-family: monospace;background-color: #f0f8ff;border: 1px dotted black;border-radius: 0.25em;box-sizing: border-box;margin-bottom: 0.5em;}#sk-container-id-4 div.sk-estimator:hover {background-color: #d4ebff;}#sk-container-id-4 div.sk-parallel-item::after {content: \"\";width: 100%;border-bottom: 1px solid gray;flex-grow: 1;}#sk-container-id-4 div.sk-label:hover label.sk-toggleable__label {background-color: #d4ebff;}#sk-container-id-4 div.sk-serial::before {content: \"\";position: absolute;border-left: 1px solid gray;box-sizing: border-box;top: 0;bottom: 0;left: 50%;z-index: 0;}#sk-container-id-4 div.sk-serial {display: flex;flex-direction: column;align-items: center;background-color: white;padding-right: 0.2em;padding-left: 0.2em;position: relative;}#sk-container-id-4 div.sk-item {position: relative;z-index: 1;}#sk-container-id-4 div.sk-parallel {display: flex;align-items: stretch;justify-content: center;background-color: white;position: relative;}#sk-container-id-4 div.sk-item::before, #sk-container-id-4 div.sk-parallel-item::before {content: \"\";position: absolute;border-left: 1px solid gray;box-sizing: border-box;top: 0;bottom: 0;left: 50%;z-index: -1;}#sk-container-id-4 div.sk-parallel-item {display: flex;flex-direction: column;z-index: 1;position: relative;background-color: white;}#sk-container-id-4 div.sk-parallel-item:first-child::after {align-self: flex-end;width: 50%;}#sk-container-id-4 div.sk-parallel-item:last-child::after {align-self: flex-start;width: 50%;}#sk-container-id-4 div.sk-parallel-item:only-child::after {width: 0;}#sk-container-id-4 div.sk-dashed-wrapped {border: 1px dashed gray;margin: 0 0.4em 0.5em 0.4em;box-sizing: border-box;padding-bottom: 0.4em;background-color: white;}#sk-container-id-4 div.sk-label label {font-family: monospace;font-weight: bold;display: inline-block;line-height: 1.2em;}#sk-container-id-4 div.sk-label-container {text-align: center;}#sk-container-id-4 div.sk-container {/* jupyter's `normalize.less` sets `[hidden] { display: none; }` but bootstrap.min.css set `[hidden] { display: none !important; }` so we also need the `!important` here to be able to override the default hidden behavior on the sphinx rendered scikit-learn.org. See: https://github.com/scikit-learn/scikit-learn/issues/21755 */display: inline-block !important;position: relative;}#sk-container-id-4 div.sk-text-repr-fallback {display: none;}</style><div id=\"sk-container-id-4\" class=\"sk-top-container\"><div class=\"sk-text-repr-fallback\"><pre>VotingRegressor(estimators=[(&#x27;lar&#x27;, Lasso(alpha=0.1)),\n",
       "                            (&#x27;lgbm&#x27;, LGBMRegressor()),\n",
       "                            (&#x27;xgbr&#x27;,\n",
       "                             XGBRegressor(base_score=0.5, booster=&#x27;gbtree&#x27;,\n",
       "                                          callbacks=None, colsample_bylevel=1,\n",
       "                                          colsample_bynode=1,\n",
       "                                          colsample_bytree=0.6805529037719623,\n",
       "                                          early_stopping_rounds=None,\n",
       "                                          enable_categorical=False,\n",
       "                                          eval_metric=None, feature_types=None,\n",
       "                                          gamma=0.013904824034426317, gpu_id=-1,\n",
       "                                          grow...\n",
       "                                          importance_type=None,\n",
       "                                          interaction_constraints=&#x27;&#x27;,\n",
       "                                          learning_rate=0.020190598458685406,\n",
       "                                          max_bin=256, max_cat_threshold=64,\n",
       "                                          max_cat_to_onehot=4, max_delta_step=0,\n",
       "                                          max_depth=4, max_leaves=0,\n",
       "                                          min_child_weight=1.9188153908213879,\n",
       "                                          missing=nan,\n",
       "                                          monotone_constraints=&#x27;()&#x27;,\n",
       "                                          n_estimators=2173, n_jobs=-1,\n",
       "                                          nthread=-1, num_parallel_tree=1,\n",
       "                                          predictor=&#x27;auto&#x27;, ...)),\n",
       "                            (&#x27;rndf&#x27;, RandomForestRegressor())])</pre><b>In a Jupyter environment, please rerun this cell to show the HTML representation or trust the notebook. <br />On GitHub, the HTML representation is unable to render, please try loading this page with nbviewer.org.</b></div><div class=\"sk-container\" hidden><div class=\"sk-item sk-dashed-wrapped\"><div class=\"sk-label-container\"><div class=\"sk-label sk-toggleable\"><input class=\"sk-toggleable__control sk-hidden--visually\" id=\"sk-estimator-id-4\" type=\"checkbox\" ><label for=\"sk-estimator-id-4\" class=\"sk-toggleable__label sk-toggleable__label-arrow\">VotingRegressor</label><div class=\"sk-toggleable__content\"><pre>VotingRegressor(estimators=[(&#x27;lar&#x27;, Lasso(alpha=0.1)),\n",
       "                            (&#x27;lgbm&#x27;, LGBMRegressor()),\n",
       "                            (&#x27;xgbr&#x27;,\n",
       "                             XGBRegressor(base_score=0.5, booster=&#x27;gbtree&#x27;,\n",
       "                                          callbacks=None, colsample_bylevel=1,\n",
       "                                          colsample_bynode=1,\n",
       "                                          colsample_bytree=0.6805529037719623,\n",
       "                                          early_stopping_rounds=None,\n",
       "                                          enable_categorical=False,\n",
       "                                          eval_metric=None, feature_types=None,\n",
       "                                          gamma=0.013904824034426317, gpu_id=-1,\n",
       "                                          grow...\n",
       "                                          importance_type=None,\n",
       "                                          interaction_constraints=&#x27;&#x27;,\n",
       "                                          learning_rate=0.020190598458685406,\n",
       "                                          max_bin=256, max_cat_threshold=64,\n",
       "                                          max_cat_to_onehot=4, max_delta_step=0,\n",
       "                                          max_depth=4, max_leaves=0,\n",
       "                                          min_child_weight=1.9188153908213879,\n",
       "                                          missing=nan,\n",
       "                                          monotone_constraints=&#x27;()&#x27;,\n",
       "                                          n_estimators=2173, n_jobs=-1,\n",
       "                                          nthread=-1, num_parallel_tree=1,\n",
       "                                          predictor=&#x27;auto&#x27;, ...)),\n",
       "                            (&#x27;rndf&#x27;, RandomForestRegressor())])</pre></div></div></div><div class=\"sk-parallel\"><div class=\"sk-parallel-item\"><div class=\"sk-item\"><div class=\"sk-label-container\"><div class=\"sk-label sk-toggleable\"><label>lar</label></div></div><div class=\"sk-serial\"><div class=\"sk-item\"><div class=\"sk-estimator sk-toggleable\"><input class=\"sk-toggleable__control sk-hidden--visually\" id=\"sk-estimator-id-5\" type=\"checkbox\" ><label for=\"sk-estimator-id-5\" class=\"sk-toggleable__label sk-toggleable__label-arrow\">Lasso</label><div class=\"sk-toggleable__content\"><pre>Lasso(alpha=0.1)</pre></div></div></div></div></div></div><div class=\"sk-parallel-item\"><div class=\"sk-item\"><div class=\"sk-label-container\"><div class=\"sk-label sk-toggleable\"><label>lgbm</label></div></div><div class=\"sk-serial\"><div class=\"sk-item\"><div class=\"sk-estimator sk-toggleable\"><input class=\"sk-toggleable__control sk-hidden--visually\" id=\"sk-estimator-id-6\" type=\"checkbox\" ><label for=\"sk-estimator-id-6\" class=\"sk-toggleable__label sk-toggleable__label-arrow\">LGBMRegressor</label><div class=\"sk-toggleable__content\"><pre>LGBMRegressor()</pre></div></div></div></div></div></div><div class=\"sk-parallel-item\"><div class=\"sk-item\"><div class=\"sk-label-container\"><div class=\"sk-label sk-toggleable\"><label>xgbr</label></div></div><div class=\"sk-serial\"><div class=\"sk-item\"><div class=\"sk-estimator sk-toggleable\"><input class=\"sk-toggleable__control sk-hidden--visually\" id=\"sk-estimator-id-7\" type=\"checkbox\" ><label for=\"sk-estimator-id-7\" class=\"sk-toggleable__label sk-toggleable__label-arrow\">XGBRegressor</label><div class=\"sk-toggleable__content\"><pre>XGBRegressor(base_score=0.5, booster=&#x27;gbtree&#x27;, callbacks=None,\n",
       "             colsample_bylevel=1, colsample_bynode=1,\n",
       "             colsample_bytree=0.6805529037719623, early_stopping_rounds=None,\n",
       "             enable_categorical=False, eval_metric=None, feature_types=None,\n",
       "             gamma=0.013904824034426317, gpu_id=-1, grow_policy=&#x27;depthwise&#x27;,\n",
       "             importance_type=None, interaction_constraints=&#x27;&#x27;,\n",
       "             learning_rate=0.020190598458685406, max_bin=256,\n",
       "             max_cat_threshold=64, max_cat_to_onehot=4, max_delta_step=0,\n",
       "             max_depth=4, max_leaves=0, min_child_weight=1.9188153908213879,\n",
       "             missing=nan, monotone_constraints=&#x27;()&#x27;, n_estimators=2173,\n",
       "             n_jobs=-1, nthread=-1, num_parallel_tree=1, predictor=&#x27;auto&#x27;, ...)</pre></div></div></div></div></div></div><div class=\"sk-parallel-item\"><div class=\"sk-item\"><div class=\"sk-label-container\"><div class=\"sk-label sk-toggleable\"><label>rndf</label></div></div><div class=\"sk-serial\"><div class=\"sk-item\"><div class=\"sk-estimator sk-toggleable\"><input class=\"sk-toggleable__control sk-hidden--visually\" id=\"sk-estimator-id-8\" type=\"checkbox\" ><label for=\"sk-estimator-id-8\" class=\"sk-toggleable__label sk-toggleable__label-arrow\">RandomForestRegressor</label><div class=\"sk-toggleable__content\"><pre>RandomForestRegressor()</pre></div></div></div></div></div></div></div></div></div></div>"
      ],
      "text/plain": [
       "VotingRegressor(estimators=[('lar', Lasso(alpha=0.1)),\n",
       "                            ('lgbm', LGBMRegressor()),\n",
       "                            ('xgbr',\n",
       "                             XGBRegressor(base_score=0.5, booster='gbtree',\n",
       "                                          callbacks=None, colsample_bylevel=1,\n",
       "                                          colsample_bynode=1,\n",
       "                                          colsample_bytree=0.6805529037719623,\n",
       "                                          early_stopping_rounds=None,\n",
       "                                          enable_categorical=False,\n",
       "                                          eval_metric=None, feature_types=None,\n",
       "                                          gamma=0.013904824034426317, gpu_id=-1,\n",
       "                                          grow...\n",
       "                                          importance_type=None,\n",
       "                                          interaction_constraints='',\n",
       "                                          learning_rate=0.020190598458685406,\n",
       "                                          max_bin=256, max_cat_threshold=64,\n",
       "                                          max_cat_to_onehot=4, max_delta_step=0,\n",
       "                                          max_depth=4, max_leaves=0,\n",
       "                                          min_child_weight=1.9188153908213879,\n",
       "                                          missing=nan,\n",
       "                                          monotone_constraints='()',\n",
       "                                          n_estimators=2173, n_jobs=-1,\n",
       "                                          nthread=-1, num_parallel_tree=1,\n",
       "                                          predictor='auto', ...)),\n",
       "                            ('rndf', RandomForestRegressor())])"
      ]
     },
     "execution_count": 40,
     "metadata": {},
     "output_type": "execute_result"
    }
   ],
   "source": [
    "#Fitting ensemble\n",
    "voting = VotingRegressor(estimators = [\n",
    "    #(\"lr\", lr),\n",
    "    (\"lar\", lar),\n",
    "    (\"lgbm\", lgbm),\n",
    "    (\"xgbr\", xgbr),\n",
    "    (\"rndf\", rndf)])\n",
    "voting.fit(X_train, y_train)"
   ]
  },
  {
   "cell_type": "code",
   "execution_count": 41,
   "metadata": {},
   "outputs": [
    {
     "data": {
      "text/plain": [
       "0.5712387586064109"
      ]
     },
     "execution_count": 41,
     "metadata": {},
     "output_type": "execute_result"
    }
   ],
   "source": [
    "#Evaluating performance on test data\n",
    "y_pred = voting.predict(X_vali)\n",
    "r2 = r2_score(y_vali, y_pred)\n",
    "r2"
   ]
  },
  {
   "cell_type": "code",
   "execution_count": 42,
   "metadata": {},
   "outputs": [],
   "source": [
    "#To do: Add remaining models"
   ]
  },
  {
   "cell_type": "code",
   "execution_count": 49,
   "metadata": {},
   "outputs": [
    {
     "data": {
      "text/html": [
       "<div>\n",
       "<style scoped>\n",
       "    .dataframe tbody tr th:only-of-type {\n",
       "        vertical-align: middle;\n",
       "    }\n",
       "\n",
       "    .dataframe tbody tr th {\n",
       "        vertical-align: top;\n",
       "    }\n",
       "\n",
       "    .dataframe thead th {\n",
       "        text-align: right;\n",
       "    }\n",
       "</style>\n",
       "<table border=\"1\" class=\"dataframe\">\n",
       "  <thead>\n",
       "    <tr style=\"text-align: right;\">\n",
       "      <th></th>\n",
       "      <th>y</th>\n",
       "    </tr>\n",
       "    <tr>\n",
       "      <th>id</th>\n",
       "      <th></th>\n",
       "    </tr>\n",
       "  </thead>\n",
       "  <tbody>\n",
       "    <tr>\n",
       "      <th>0.0</th>\n",
       "      <td>69.889439</td>\n",
       "    </tr>\n",
       "    <tr>\n",
       "      <th>1.0</th>\n",
       "      <td>69.889439</td>\n",
       "    </tr>\n",
       "    <tr>\n",
       "      <th>2.0</th>\n",
       "      <td>69.889439</td>\n",
       "    </tr>\n",
       "    <tr>\n",
       "      <th>3.0</th>\n",
       "      <td>69.889439</td>\n",
       "    </tr>\n",
       "    <tr>\n",
       "      <th>4.0</th>\n",
       "      <td>69.889439</td>\n",
       "    </tr>\n",
       "    <tr>\n",
       "      <th>...</th>\n",
       "      <td>...</td>\n",
       "    </tr>\n",
       "    <tr>\n",
       "      <th>771.0</th>\n",
       "      <td>69.889439</td>\n",
       "    </tr>\n",
       "    <tr>\n",
       "      <th>772.0</th>\n",
       "      <td>69.889439</td>\n",
       "    </tr>\n",
       "    <tr>\n",
       "      <th>773.0</th>\n",
       "      <td>69.889439</td>\n",
       "    </tr>\n",
       "    <tr>\n",
       "      <th>774.0</th>\n",
       "      <td>69.889439</td>\n",
       "    </tr>\n",
       "    <tr>\n",
       "      <th>775.0</th>\n",
       "      <td>69.889439</td>\n",
       "    </tr>\n",
       "  </tbody>\n",
       "</table>\n",
       "<p>776 rows × 1 columns</p>\n",
       "</div>"
      ],
      "text/plain": [
       "               y\n",
       "id              \n",
       "0.0    69.889439\n",
       "1.0    69.889439\n",
       "2.0    69.889439\n",
       "3.0    69.889439\n",
       "4.0    69.889439\n",
       "...          ...\n",
       "771.0  69.889439\n",
       "772.0  69.889439\n",
       "773.0  69.889439\n",
       "774.0  69.889439\n",
       "775.0  69.889439\n",
       "\n",
       "[776 rows x 1 columns]"
      ]
     },
     "execution_count": 49,
     "metadata": {},
     "output_type": "execute_result"
    }
   ],
   "source": [
    "sample"
   ]
  },
  {
   "cell_type": "code",
   "execution_count": 55,
   "metadata": {},
   "outputs": [],
   "source": [
    "y_pred = voting.predict(xtest_df)\n",
    "sub = pd.DataFrame(data=y_pred,index=xtest_df.index)\n",
    "sub.columns = [\"y\"]\n",
    "sub.to_csv(\"submission.csv\")"
   ]
  },
  {
   "cell_type": "code",
   "execution_count": null,
   "metadata": {},
   "outputs": [],
   "source": []
  },
  {
   "cell_type": "code",
   "execution_count": null,
   "metadata": {},
   "outputs": [],
   "source": []
  },
  {
   "cell_type": "code",
   "execution_count": null,
   "metadata": {},
   "outputs": [],
   "source": []
  },
  {
   "cell_type": "code",
   "execution_count": null,
   "metadata": {},
   "outputs": [],
   "source": [
    "def lasso_regression(X_rest, y_rest, X_train, y_train, X_vali, y_vali, params):\n",
    "    model_params = params[\"lasso_params\"]\n",
    "    \n",
    "    gs = GridSearchCV(linear_model.Lasso(), \n",
    "                      param_grid = model_params,\n",
    "                      cv = 3)\n",
    "    \n",
    "    gs.fit(X_train, y_train)\n",
    "    \n",
    "    y_pred = gs.predict(X_vali)\n",
    "    r2 = r2_score(y_vali, y_pred)\n",
    "    \n",
    "    gs.fit(X_rest, y_rest)\n",
    "    \n",
    "    return gs, r2, gs.best_params_"
   ]
  }
 ],
 "metadata": {
  "kernelspec": {
   "display_name": "Python 3 (ipykernel)",
   "language": "python",
   "name": "python3"
  },
  "language_info": {
   "codemirror_mode": {
    "name": "ipython",
    "version": 3
   },
   "file_extension": ".py",
   "mimetype": "text/x-python",
   "name": "python",
   "nbconvert_exporter": "python",
   "pygments_lexer": "ipython3",
   "version": "3.10.0"
  }
 },
 "nbformat": 4,
 "nbformat_minor": 4
}
